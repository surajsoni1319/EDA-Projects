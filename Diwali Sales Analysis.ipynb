{
 "cells": [
  {
   "cell_type": "code",
   "execution_count": 1,
   "id": "de6473a1",
   "metadata": {},
   "outputs": [],
   "source": [
    "import numpy as np\n",
    "import pandas as pd \n",
    "import seaborn as sns\n",
    "import matplotlib.pyplot as plt \n",
    "%matplotlib inline "
   ]
  },
  {
   "cell_type": "code",
   "execution_count": null,
   "id": "1a942444",
   "metadata": {},
   "outputs": [],
   "source": [
    "df = pd.read_excel('C:/Users/Suraj Soni/Desktop/Diwali Sales Data.xlsx')"
   ]
  },
  {
   "cell_type": "code",
   "execution_count": null,
   "id": "4c6320b5",
   "metadata": {},
   "outputs": [],
   "source": [
    "df.shape"
   ]
  },
  {
   "cell_type": "code",
   "execution_count": null,
   "id": "5aa3c3aa",
   "metadata": {},
   "outputs": [],
   "source": [
    "df.head(3)"
   ]
  },
  {
   "cell_type": "code",
   "execution_count": null,
   "id": "11c18a86",
   "metadata": {},
   "outputs": [],
   "source": [
    "df.tail(3)"
   ]
  },
  {
   "cell_type": "code",
   "execution_count": null,
   "id": "3df7c9eb",
   "metadata": {},
   "outputs": [],
   "source": [
    "df.info()"
   ]
  },
  {
   "cell_type": "code",
   "execution_count": null,
   "id": "b2b4eba7",
   "metadata": {},
   "outputs": [],
   "source": [
    "#dropping blank coloumns \n",
    "df.drop(['Status','unnamed1'],axis=1, inplace = True)"
   ]
  },
  {
   "cell_type": "code",
   "execution_count": null,
   "id": "5d2f44e0",
   "metadata": {},
   "outputs": [],
   "source": [
    "#checking for null value \n",
    "pd.isnull(df)"
   ]
  },
  {
   "cell_type": "code",
   "execution_count": null,
   "id": "323f2cea",
   "metadata": {},
   "outputs": [],
   "source": [
    "pd.isnull(df).sum()"
   ]
  },
  {
   "cell_type": "code",
   "execution_count": null,
   "id": "ea531aed",
   "metadata": {},
   "outputs": [],
   "source": [
    "#droping null\n",
    "df.dropna(inplace=True)"
   ]
  },
  {
   "cell_type": "code",
   "execution_count": null,
   "id": "b2bb2a64",
   "metadata": {},
   "outputs": [],
   "source": [
    "df.shape         #12 null values droped "
   ]
  },
  {
   "cell_type": "code",
   "execution_count": null,
   "id": "2dc1fe62",
   "metadata": {},
   "outputs": [],
   "source": [
    "#changing the data type of Amount to Int\n",
    "df['Amount'] = df['Amount'].astype('int')"
   ]
  },
  {
   "cell_type": "code",
   "execution_count": null,
   "id": "60cdfc38",
   "metadata": {},
   "outputs": [],
   "source": [
    "df['Amount'].dtype"
   ]
  },
  {
   "cell_type": "code",
   "execution_count": null,
   "id": "310fdeb9",
   "metadata": {},
   "outputs": [],
   "source": [
    "df.columns"
   ]
  },
  {
   "cell_type": "code",
   "execution_count": null,
   "id": "e62c9749",
   "metadata": {},
   "outputs": [],
   "source": [
    "df.describe()"
   ]
  },
  {
   "cell_type": "code",
   "execution_count": null,
   "id": "7cb245f5",
   "metadata": {},
   "outputs": [],
   "source": [
    "#applying discribe function on selected coloumns.\n",
    "df[['Age','Orders','Amount']].describe()"
   ]
  },
  {
   "cell_type": "markdown",
   "id": "43539d9d",
   "metadata": {},
   "source": [
    "# EDA"
   ]
  },
  {
   "cell_type": "markdown",
   "id": "cac577be",
   "metadata": {},
   "source": [
    "### Gender"
   ]
  },
  {
   "cell_type": "code",
   "execution_count": null,
   "id": "ba5bfdf3",
   "metadata": {},
   "outputs": [],
   "source": [
    "df.columns"
   ]
  },
  {
   "cell_type": "code",
   "execution_count": null,
   "id": "7b31477f",
   "metadata": {
    "scrolled": false
   },
   "outputs": [],
   "source": [
    "ax = sns.countplot(x='Gender',data = df)\n",
    "for bars in ax.containers:\n",
    "    ax.bar_label(bars)"
   ]
  },
  {
   "cell_type": "code",
   "execution_count": null,
   "id": "8d1ce02d",
   "metadata": {},
   "outputs": [],
   "source": [
    "df.groupby(['Gender'], as_index=False)['Amount'].sum().sort_values(by='Amount', ascending=False)"
   ]
  },
  {
   "cell_type": "code",
   "execution_count": null,
   "id": "aabaae59",
   "metadata": {},
   "outputs": [],
   "source": [
    "sales = df.groupby(['Gender'], as_index=False)['Amount'].sum().sort_values(by='Amount', ascending=False)\n",
    "\n",
    "sns.barplot(x='Gender',y='Amount',data=sales)\n",
    "\n",
    "ax = sns.barplot(x='Gender', y='Amount', data=sales)\n",
    "\n",
    "# Add labels to the bars\n",
    "for container in ax.containers:\n",
    "    ax.bar_label(container, fmt='%.2f')"
   ]
  },
  {
   "cell_type": "markdown",
   "id": "d6d01fc6",
   "metadata": {},
   "source": [
    "Females have high orders "
   ]
  },
  {
   "cell_type": "markdown",
   "id": "34d200f5",
   "metadata": {},
   "source": [
    "# Age"
   ]
  },
  {
   "cell_type": "code",
   "execution_count": null,
   "id": "fb84667f",
   "metadata": {},
   "outputs": [],
   "source": [
    "df.columns"
   ]
  },
  {
   "cell_type": "code",
   "execution_count": null,
   "id": "bdd6ce5f",
   "metadata": {},
   "outputs": [],
   "source": [
    "ax = sns.countplot(x='Age Group',data = df,hue='Gender')\n",
    "for container in ax.containers:\n",
    "    ax.bar_label(container)"
   ]
  },
  {
   "cell_type": "code",
   "execution_count": null,
   "id": "d3e4e691",
   "metadata": {},
   "outputs": [],
   "source": [
    "sales_age = df.groupby(['Age Group'], as_index=False)['Amount'].sum().sort_values(by='Amount', ascending=False)\n",
    "\n",
    "sns.barplot(x='Age Group',y='Amount',data=sales_age)"
   ]
  },
  {
   "cell_type": "markdown",
   "id": "25ec8bc6",
   "metadata": {},
   "source": [
    "Most of the buyer are of are group from 26 to 35  \n"
   ]
  },
  {
   "cell_type": "code",
   "execution_count": null,
   "id": "33cffb8b",
   "metadata": {},
   "outputs": [],
   "source": [
    "df.columns"
   ]
  },
  {
   "cell_type": "code",
   "execution_count": null,
   "id": "b5f70a2f",
   "metadata": {
    "scrolled": true
   },
   "outputs": [],
   "source": [
    "#total number of order from top \n",
    "sales_state = df.groupby(['State'], as_index=False)['Orders'].sum().sort_values(by='Orders', ascending=False).head(10)\n",
    "sns.set(rc={'figure.figsize':(20,5)})\n",
    "\n",
    "sns.barplot(x='State',y='Orders',data=sales_state)"
   ]
  },
  {
   "cell_type": "markdown",
   "id": "0b77a725",
   "metadata": {},
   "source": [
    "from the above analysis we can find that UP, Maharastra and Karnataka are the top 3 state in terms of highest orders. "
   ]
  },
  {
   "cell_type": "code",
   "execution_count": null,
   "id": "2cafd1d7",
   "metadata": {},
   "outputs": [],
   "source": [
    "#total amount/sales from top 10 state\n",
    "sales_state = df.groupby(['State'], as_index=False)['Amount'].sum().sort_values(by='Amount', ascending=False).head(10)\n",
    "sns.set(rc={'figure.figsize':(20,5)})\n",
    "\n",
    "sns.barplot(x='State',y='Amount',data=sales_state)"
   ]
  },
  {
   "cell_type": "markdown",
   "id": "1c3f4845",
   "metadata": {},
   "source": [
    "from the above analysis we can find that UP, Maharastra and Karnataka are the top 3 state in maximum revenue. "
   ]
  },
  {
   "cell_type": "markdown",
   "id": "7a5040af",
   "metadata": {},
   "source": [
    "## Merital Status"
   ]
  },
  {
   "cell_type": "code",
   "execution_count": null,
   "id": "a73ef2c3",
   "metadata": {},
   "outputs": [],
   "source": [
    "ax = sns.countplot(x='Marital_Status',data=df)\n",
    "\n",
    "for container in ax.containers:\n",
    "    ax.bar_label(container)"
   ]
  },
  {
   "cell_type": "code",
   "execution_count": null,
   "id": "bfa002ad",
   "metadata": {},
   "outputs": [],
   "source": [
    "sales_state = df.groupby(['Marital_Status','Gender'], as_index=False)['Amount'].sum().sort_values(by='Amount', ascending=False)\n",
    "sns.set(rc={'figure.figsize':(10,5)})\n",
    "\n",
    "sns.barplot(x='Marital_Status',y='Amount',data=sales_state,hue = 'Gender')"
   ]
  },
  {
   "cell_type": "markdown",
   "id": "dff555db",
   "metadata": {},
   "source": [
    "## Occupation "
   ]
  },
  {
   "cell_type": "code",
   "execution_count": null,
   "id": "31e03085",
   "metadata": {},
   "outputs": [],
   "source": [
    "ax = sns.countplot(x='Occupation',data=df)\n",
    "sns.set(rc={'figure.figsize':(30,5)})\n",
    "for container in ax.containers:\n",
    "    ax.bar_label(container)"
   ]
  },
  {
   "cell_type": "code",
   "execution_count": null,
   "id": "dce70ecb",
   "metadata": {},
   "outputs": [],
   "source": [
    "sales_state = df.groupby(['Occupation'], as_index=False)['Amount'].sum().sort_values(by='Amount', ascending=False)\n",
    "sns.set(rc={'figure.figsize':(30,5)})\n",
    "\n",
    "sns.barplot(x='Occupation',y='Amount',data=sales_state)"
   ]
  },
  {
   "cell_type": "code",
   "execution_count": null,
   "id": "19c8956a",
   "metadata": {},
   "outputs": [],
   "source": [
    "df.columns"
   ]
  },
  {
   "cell_type": "markdown",
   "id": "0226ff16",
   "metadata": {},
   "source": [
    "## Product_Category"
   ]
  },
  {
   "cell_type": "code",
   "execution_count": null,
   "id": "285a2a23",
   "metadata": {
    "scrolled": true
   },
   "outputs": [],
   "source": [
    "ax = sns.countplot(x='Product_Category',data=df)\n",
    "\n",
    "sns.set(rc={'figure.figsize':(25,5)})\n",
    "for container in ax.containers:\n",
    "    ax.bar_label(container)"
   ]
  },
  {
   "cell_type": "markdown",
   "id": "9078d89b",
   "metadata": {},
   "source": [
    "Total Number of order received from clothing, food and electronics. "
   ]
  },
  {
   "cell_type": "code",
   "execution_count": null,
   "id": "caf746b7",
   "metadata": {},
   "outputs": [],
   "source": [
    "sales_state = df.groupby(['Product_Category'], as_index=False)['Amount'].sum().sort_values(by='Amount', ascending=False)\n",
    "sns.set(rc={'figure.figsize':(30,5)})\n",
    "\n",
    "sns.barplot(x='Product_Category',y='Amount',data=sales_state)"
   ]
  },
  {
   "cell_type": "markdown",
   "id": "e19cfe13",
   "metadata": {},
   "source": [
    "Food has the highest revenew followed by clothing and electronics. "
   ]
  },
  {
   "cell_type": "markdown",
   "id": "2ba0b3ca",
   "metadata": {},
   "source": [
    "## Product ID"
   ]
  },
  {
   "cell_type": "code",
   "execution_count": null,
   "id": "bf76c6c9",
   "metadata": {},
   "outputs": [],
   "source": [
    "sales_state = df.groupby(['Product_ID'], as_index=False)['Orders'].sum().sort_values(by='Orders', ascending=False).head(10)\n",
    "sns.set(rc={'figure.figsize':(20,5)})\n",
    "\n",
    "sns.barplot(x='Product_ID',y='Orders',data=sales_state)"
   ]
  },
  {
   "cell_type": "code",
   "execution_count": null,
   "id": "620defc7",
   "metadata": {},
   "outputs": [],
   "source": []
  }
 ],
 "metadata": {
  "kernelspec": {
   "display_name": "Python 3 (ipykernel)",
   "language": "python",
   "name": "python3"
  },
  "language_info": {
   "codemirror_mode": {
    "name": "ipython",
    "version": 3
   },
   "file_extension": ".py",
   "mimetype": "text/x-python",
   "name": "python",
   "nbconvert_exporter": "python",
   "pygments_lexer": "ipython3",
   "version": "3.11.5"
  }
 },
 "nbformat": 4,
 "nbformat_minor": 5
}
